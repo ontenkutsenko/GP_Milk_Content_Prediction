{
 "cells": [
  {
   "cell_type": "code",
   "execution_count": 28,
   "metadata": {},
   "outputs": [],
   "source": [
    "import os\n",
    "import csv\n",
    "import torch\n",
    "import pandas as pd\n",
    "import matplotlib.pyplot as plt\n",
    "\n",
    "from gpolnel.utils.datasets import load_boston\n",
    "from torch.utils.data import TensorDataset, DataLoader\n",
    "\n",
    "from gpolnel.problems.inductive_programming import SML\n",
    "from gpolnel.utils.utils import train_test_split\n",
    "from gpolnel.utils.ffunctions import Ffunctions\n",
    "from gpolnel.utils.inductive_programming import function_map\n",
    "from gpolnel.algorithms.genetic_algorithm import GeneticAlgorithm\n",
    "from gpolnel.operators.initializers import grow, prm_grow, ERC, rhh\n",
    "from gpolnel.operators.variators import swap_xo, prm_subtree_mtn, prm_gs_xo, prm_gs_mtn, prm_point_mtn, prm_efficient_gs_xo, prm_efficient_gs_mtn\n",
    "from gpolnel.operators.selectors import prm_tournament, roulette_wheel, double_tournament\n",
    "from sklearn.preprocessing import MinMaxScaler"
   ]
  },
  {
   "cell_type": "code",
   "execution_count": 29,
   "metadata": {},
   "outputs": [
    {
     "data": {
      "text/html": [
       "<div>\n",
       "<style scoped>\n",
       "    .dataframe tbody tr th:only-of-type {\n",
       "        vertical-align: middle;\n",
       "    }\n",
       "\n",
       "    .dataframe tbody tr th {\n",
       "        vertical-align: top;\n",
       "    }\n",
       "\n",
       "    .dataframe thead th {\n",
       "        text-align: right;\n",
       "    }\n",
       "</style>\n",
       "<table border=\"1\" class=\"dataframe\">\n",
       "  <thead>\n",
       "    <tr style=\"text-align: right;\">\n",
       "      <th></th>\n",
       "      <th>lactose_percent</th>\n",
       "    </tr>\n",
       "  </thead>\n",
       "  <tbody>\n",
       "    <tr>\n",
       "      <th>0</th>\n",
       "      <td>4.953503</td>\n",
       "    </tr>\n",
       "    <tr>\n",
       "      <th>1</th>\n",
       "      <td>4.983128</td>\n",
       "    </tr>\n",
       "    <tr>\n",
       "      <th>2</th>\n",
       "      <td>4.889104</td>\n",
       "    </tr>\n",
       "    <tr>\n",
       "      <th>3</th>\n",
       "      <td>4.868969</td>\n",
       "    </tr>\n",
       "    <tr>\n",
       "      <th>4</th>\n",
       "      <td>4.845402</td>\n",
       "    </tr>\n",
       "    <tr>\n",
       "      <th>...</th>\n",
       "      <td>...</td>\n",
       "    </tr>\n",
       "    <tr>\n",
       "      <th>319</th>\n",
       "      <td>4.891620</td>\n",
       "    </tr>\n",
       "    <tr>\n",
       "      <th>320</th>\n",
       "      <td>4.800946</td>\n",
       "    </tr>\n",
       "    <tr>\n",
       "      <th>321</th>\n",
       "      <td>4.916133</td>\n",
       "    </tr>\n",
       "    <tr>\n",
       "      <th>322</th>\n",
       "      <td>5.024776</td>\n",
       "    </tr>\n",
       "    <tr>\n",
       "      <th>323</th>\n",
       "      <td>4.888787</td>\n",
       "    </tr>\n",
       "  </tbody>\n",
       "</table>\n",
       "<p>324 rows × 1 columns</p>\n",
       "</div>"
      ],
      "text/plain": [
       "     lactose_percent\n",
       "0           4.953503\n",
       "1           4.983128\n",
       "2           4.889104\n",
       "3           4.868969\n",
       "4           4.845402\n",
       "..               ...\n",
       "319         4.891620\n",
       "320         4.800946\n",
       "321         4.916133\n",
       "322         5.024776\n",
       "323         4.888787\n",
       "\n",
       "[324 rows x 1 columns]"
      ]
     },
     "execution_count": 29,
     "metadata": {},
     "output_type": "execute_result"
    }
   ],
   "source": [
    "X = pd.read_csv('datamart/data_project_nel.csv').fillna(0)\n",
    "y = pd.read_csv('datamart/y_lactose.csv')\n",
    "y"
   ]
  },
  {
   "cell_type": "code",
   "execution_count": 30,
   "metadata": {},
   "outputs": [
    {
     "name": "stdout",
     "output_type": "stream",
     "text": [
      "torch.Size([324, 14]) torch.Size([324])\n"
     ]
    }
   ],
   "source": [
    "X = torch.tensor(X.values, dtype=torch.float32)\n",
    "y = torch.tensor(y.values, dtype=torch.float32).reshape(1,-1)[0]\n",
    "print(X.shape, y.shape)"
   ]
  },
  {
   "cell_type": "code",
   "execution_count": 31,
   "metadata": {},
   "outputs": [
    {
     "name": "stdout",
     "output_type": "stream",
     "text": [
      "Batch size: 159\n",
      "Total batches: 3\n",
      "\n",
      "Train:\t159\n",
      "Val:\t68\n",
      "Test:\t97\n",
      "Total:\t324\n"
     ]
    }
   ],
   "source": [
    "seed = 1\n",
    "device = 'mps' if torch.backends.mps.is_available() else 'cpu'\n",
    "shuffle, p_test, p_val, n_batches_pct = True, .3, .3, 1\n",
    "\n",
    "# Data split\n",
    "\n",
    "\n",
    "\n",
    "# Train and test sets\n",
    "X_train, X_test, y_train, y_test = train_test_split(X, y, p_test=p_test, seed=seed)\n",
    "\n",
    "\n",
    "# Train and validation sets\n",
    "X_train, X_val, y_train, y_val = train_test_split(X_train, y_train, p_test=p_val, seed=seed)\n",
    "\n",
    "# Scaling\n",
    "scaler = MinMaxScaler()\n",
    "X_train = torch.tensor(scaler.fit_transform(X_train), dtype=torch.float32)\n",
    "X_val = torch.tensor(scaler.transform(X_val), dtype=torch.float32)\n",
    "X_test = torch.tensor(scaler.transform(X_test), dtype=torch.float32)\n",
    "\n",
    "# scaler = MinMaxScaler()\n",
    "# y_train = torch.tensor(scaler.fit_transform(y_train.reshape(-1, 1)), dtype=torch.float32).reshape(1,-1)[0]\n",
    "# y_val = torch.tensor(scaler.transform(y_val.reshape(-1, 1)), dtype=torch.float32).reshape(1,-1)[0]\n",
    "# y_test = torch.tensor(scaler.transform(y_test.reshape(-1, 1)), dtype=torch.float32).reshape(1,-1)[0]\n",
    "\n",
    "# Data description\n",
    "total_batches = 3\n",
    "batch_size = X_train.shape[0]\n",
    "print('Batch size: {}\\nTotal batches: {}\\n'.format(batch_size, total_batches))\n",
    "\n",
    "print('Train:\\t{}\\nVal:\\t{}\\nTest:\\t{}'.format(X_train.shape[0], X_val.shape[0], X_test.shape[0]))\n",
    "print('Total:\\t{}'.format(X_train.shape[0] + X_val.shape[0] + X_test.shape[0]))\n",
    "\n",
    "# Creates training and validatation data sets\n",
    "ds_train = TensorDataset(X_train, y_train)\n",
    "ds_val = TensorDataset(X_val, y_val)\n",
    "\n",
    "# Creates training and test data loaders\n",
    "dl_train = DataLoader(ds_train, batch_size, shuffle)\n",
    "dl_val = DataLoader(ds_val, batch_size, shuffle)\n"
   ]
  },
  {
   "cell_type": "code",
   "execution_count": 5,
   "metadata": {},
   "outputs": [
    {
     "data": {
      "text/plain": [
       "torch.Tensor"
      ]
     },
     "execution_count": 5,
     "metadata": {},
     "output_type": "execute_result"
    }
   ],
   "source": [
    "type(y_train)"
   ]
  },
  {
   "cell_type": "code",
   "execution_count": 6,
   "metadata": {},
   "outputs": [
    {
     "data": {
      "text/plain": [
       "tensor([4.7904, 4.8916, 4.9784, 4.9259, 4.7225, 5.0039, 4.8479, 4.8490, 4.7730,\n",
       "        4.8473, 4.8589, 4.8838, 4.8986, 4.8768, 4.9678, 4.9228, 4.8739, 4.8839,\n",
       "        4.9045, 4.9271, 4.8631, 4.8672, 4.9949, 4.9535, 4.8955, 4.8183, 4.8664,\n",
       "        5.0020, 4.8861, 4.9711, 4.8549, 4.8118, 4.8280, 4.8668, 4.9138, 4.8009,\n",
       "        4.8888, 4.9296, 4.8431, 4.8615, 4.8632, 4.8632, 4.8026, 4.8982, 4.8711,\n",
       "        4.9086, 4.8717, 4.8387, 4.8649, 5.0403, 4.9555, 4.9563, 4.8480, 4.8391,\n",
       "        4.8125, 4.8317, 4.8587, 4.8824, 4.8894, 4.9064, 4.9003, 4.9917, 4.9800,\n",
       "        4.9573, 4.8454, 4.9126, 4.8432, 4.8322, 4.9707, 4.8353, 4.8816, 4.9234,\n",
       "        4.9728, 4.8702, 4.8349, 4.9922, 4.8665, 5.0011, 4.8746, 4.8741, 4.9706,\n",
       "        4.9275, 4.9488, 4.7475, 4.9439, 4.8494, 4.9054, 4.8136, 4.9132, 4.9583,\n",
       "        5.0106, 4.7435, 4.8423, 4.8367, 4.8956, 4.7809, 4.9028, 4.9514, 4.8942,\n",
       "        4.8089, 4.7972, 4.8893, 4.9367, 5.0590, 4.8803, 5.0311, 4.9639, 4.8493,\n",
       "        4.8423, 4.9313, 4.9669, 4.8828, 4.7948, 4.7698, 4.9811, 4.9266, 4.9235,\n",
       "        4.8391, 4.9490, 4.9195, 4.9293, 5.0014, 4.7678, 4.8186, 4.9491, 4.8751,\n",
       "        4.8273, 4.8160, 4.8565, 4.8488, 4.8196, 4.8952, 4.7075, 5.0413, 4.8797,\n",
       "        4.8287, 4.8260, 4.8547, 4.8719, 4.9235, 5.0203, 4.8785, 4.9317, 4.9319,\n",
       "        4.8841, 4.8298, 4.8557, 4.8856, 4.9007, 4.8192, 4.8542, 4.9459, 4.8017,\n",
       "        4.8242, 4.8249, 4.8891, 4.8690, 4.9543, 4.8687])"
      ]
     },
     "execution_count": 6,
     "metadata": {},
     "output_type": "execute_result"
    }
   ],
   "source": [
    "y_train"
   ]
  },
  {
   "cell_type": "code",
   "execution_count": 32,
   "metadata": {},
   "outputs": [],
   "source": [
    "fset = [function_map['add'], function_map['sub'], function_map['mul'], function_map['div']]\n",
    "\n",
    "sspace_sml = {\n",
    "    'n_dims': X_train.shape[1],\n",
    "    'function_set': fset, 'constant_set': ERC(-1., 1.),\n",
    "    'p_constants': 0.1,\n",
    "    'max_init_depth': 3,\n",
    "    'max_depth': 10, \n",
    "    'n_batches': total_batches,\n",
    "    'device': device\n",
    "}\n",
    "\n",
    "pi_sml = SML(\n",
    "    sspace=sspace_sml,\n",
    "    ffunction=Ffunctions('mape'),\n",
    "    dl_train=dl_train, dl_test=dl_val,  # For the algorithm, the unseen is our validation!\n",
    "    n_jobs=8\n",
    ")"
   ]
  },
  {
   "cell_type": "code",
   "execution_count": 36,
   "metadata": {},
   "outputs": [],
   "source": [
    "ps = 10\n",
    "selection_pressure = .05\n",
    "mutation_prob = .1\n",
    "xo_prob = .9\n",
    "has_elitism = True\n",
    "allow_reproduction = False\n",
    "ms = torch.Tensor([.05]).to(device)\n",
    "\n",
    "mheuristic = GeneticAlgorithm(\n",
    "    pi=pi_sml,\n",
    "    initializer=rhh,\n",
    "    selector=double_tournament(pressure=selection_pressure),\n",
    "    crossover=prm_gs_xo(initializer=prm_grow(sspace_sml), device=device),\n",
    "    mutator=prm_gs_mtn(initializer=prm_grow(sspace_sml), ms=ms),\n",
    "    pop_size=ps,\n",
    "    p_m=mutation_prob,\n",
    "    p_c=xo_prob,\n",
    "    elitism=has_elitism,\n",
    "    reproduction=allow_reproduction,  # False = or xo or mutation\n",
    "    device=device,\n",
    "    seed=seed\n",
    ")"
   ]
  },
  {
   "cell_type": "code",
   "execution_count": 34,
   "metadata": {},
   "outputs": [
    {
     "ename": "TypeError",
     "evalue": "grow() missing 1 required positional argument: 'n_sols'",
     "output_type": "error",
     "traceback": [
      "\u001b[0;31m---------------------------------------------------------------------------\u001b[0m",
      "\u001b[0;31mTypeError\u001b[0m                                 Traceback (most recent call last)",
      "Cell \u001b[0;32mIn[34], line 1\u001b[0m\n\u001b[0;32m----> 1\u001b[0m mheuristic\u001b[38;5;241m.\u001b[39m_initialize()\n",
      "File \u001b[0;32m~/Documents/Nova IMS current/NEL/GP_Milk_Content_Prediction/gpolnel/algorithms/population_based.py:105\u001b[0m, in \u001b[0;36mPopulationBased._initialize\u001b[0;34m(self, start_at)\u001b[0m\n\u001b[1;32m    103\u001b[0m     pop_repr\u001b[38;5;241m.\u001b[39mextend(start_at)\n\u001b[1;32m    104\u001b[0m \u001b[38;5;66;03m# Initializes pop_size individuals by means of 'initializer' function\u001b[39;00m\n\u001b[0;32m--> 105\u001b[0m pop_repr\u001b[38;5;241m.\u001b[39mextend(\u001b[38;5;28mself\u001b[39m\u001b[38;5;241m.\u001b[39minitializer(sspace\u001b[38;5;241m=\u001b[39m\u001b[38;5;28mself\u001b[39m\u001b[38;5;241m.\u001b[39mpi\u001b[38;5;241m.\u001b[39msspace, n_sols\u001b[38;5;241m=\u001b[39mpop_size))\n\u001b[1;32m    106\u001b[0m \u001b[38;5;66;03m# Stacks population's representation, if candidate solutions are objects of type torch.tensor\u001b[39;00m\n\u001b[1;32m    107\u001b[0m \u001b[38;5;28;01mif\u001b[39;00m \u001b[38;5;28misinstance\u001b[39m(pop_repr[\u001b[38;5;241m0\u001b[39m], torch\u001b[38;5;241m.\u001b[39mTensor):\n",
      "File \u001b[0;32m~/Documents/Nova IMS current/NEL/GP_Milk_Content_Prediction/gpolnel/operators/initializers.py:415\u001b[0m, in \u001b[0;36mrhh\u001b[0;34m(sspace, n_sols)\u001b[0m\n\u001b[1;32m    413\u001b[0m         sspace_group[\u001b[38;5;124m\"\u001b[39m\u001b[38;5;124mmax_init_depth\u001b[39m\u001b[38;5;124m\"\u001b[39m] \u001b[38;5;241m=\u001b[39m max_depth_group\n\u001b[1;32m    414\u001b[0m         pop\u001b[38;5;241m.\u001b[39mappend(full(sspace_group))\n\u001b[0;32m--> 415\u001b[0m         pop\u001b[38;5;241m.\u001b[39mappend(grow(sspace_group))\n\u001b[1;32m    416\u001b[0m \u001b[38;5;28;01mwhile\u001b[39;00m \u001b[38;5;28mlen\u001b[39m(pop) \u001b[38;5;241m<\u001b[39m n_sols:\n\u001b[1;32m    417\u001b[0m     pop\u001b[38;5;241m.\u001b[39mappend(grow(sspace_group) \u001b[38;5;28;01mif\u001b[39;00m random\u001b[38;5;241m.\u001b[39mrandint(\u001b[38;5;241m0\u001b[39m, \u001b[38;5;241m1\u001b[39m) \u001b[38;5;28;01melse\u001b[39;00m full(sspace_group))\n",
      "\u001b[0;31mTypeError\u001b[0m: grow() missing 1 required positional argument: 'n_sols'"
     ]
    }
   ],
   "source": [
    "mheuristic._initialize()"
   ]
  },
  {
   "cell_type": "code",
   "execution_count": 25,
   "metadata": {},
   "outputs": [
    {
     "name": "stdout",
     "output_type": "stream",
     "text": [
      "0)\t[sub, mul, div, 6, tensor(-0.9433, device='mps:0'), 12, div, 3, mul, tensor(0.2991, device='mps:0'), 6] (fit: tensor(12.7297, device='mps:0'))\n",
      "1)\t[sub, sub, 8, 10, div, 6, 11] (fit: tensor(12.7297, device='mps:0'))\n",
      "2)\t[mul, 11, 10] (fit: tensor(12.7297, device='mps:0'))\n",
      "3)\t[sub, 7, 0] (fit: tensor(12.7297, device='mps:0'))\n",
      "4)\t[div, 2, 11] (fit: tensor(12.7297, device='mps:0'))\n",
      "5)\t[mul, 1, 6] (fit: tensor(12.7297, device='mps:0'))\n",
      "6)\t[mul, div, 13, 2, add, 13, 5] (fit: tensor(12.7297, device='mps:0'))\n",
      "7)\t[mul, 9, div, 8, 0] (fit: tensor(12.7297, device='mps:0'))\n",
      "8)\t[div, div, 6, tensor(0.0802, device='mps:0'), 0] (fit: tensor(12.7297, device='mps:0'))\n",
      "9)\t[sub, sub, mul, 10, tensor(-0.9666, device='mps:0'), mul, 12, 1, sub, 2, 4] (fit: tensor(12.7297, device='mps:0'))\n",
      "\n"
     ]
    }
   ],
   "source": [
    "print(mheuristic.pop)"
   ]
  },
  {
   "cell_type": "code",
   "execution_count": 26,
   "metadata": {},
   "outputs": [
    {
     "name": "stdout",
     "output_type": "stream",
     "text": [
      "\n",
      "GP population: <class 'gpolnel.utils.population.PopulationTree'> (10 individuals)\n",
      "\n",
      "Poppulation fitness tensor([12.7297, 12.7297, 12.7297], device='mps:0')...\n",
      "Poppulation valid [True, True, True]...\n",
      "\n",
      "Individual 0: [sub, mul, div, 6, tensor(-0.9433, device='mps:0'), 12, div, 3, mul, tensor(0.2991, device='mps:0'), 6], fitness 12.729732513427734\n",
      "Individual 1: [sub, sub, 8, 10, div, 6, 11], fitness 12.729732513427734\n",
      "Individual 2: [mul, 11, 10], fitness 12.729732513427734\n",
      "\n",
      "GP best individual mul( x_9, div( x_8, x_0 ) ), fitness 12.729732513427734\n",
      "\n",
      "\n"
     ]
    }
   ],
   "source": [
    "print(f'\\nGP population: {mheuristic.pop.__class__} ({len(mheuristic.pop)} individuals)')\n",
    "\n",
    "print(f'\\nPoppulation fitness {mheuristic.pop.fit[:3]}...')\n",
    "print(f'Poppulation valid {mheuristic.pop.valid[:3]}...\\n')\n",
    "\n",
    "for i in range(3):\n",
    "    print(f'Individual {i}: {mheuristic.pop.individuals[i].repr_}, fitness {mheuristic.pop.individuals[i].fit}')\n",
    "\n",
    "print(f'\\nGP best individual {mheuristic.best_sol.printTree(out=\"string\")}, fitness {mheuristic.best_sol.fit}\\n\\n')"
   ]
  },
  {
   "cell_type": "code",
   "execution_count": 27,
   "metadata": {},
   "outputs": [
    {
     "name": "stdout",
     "output_type": "stream",
     "text": [
      "-------------------------------------------------------------------------------------------------------\n",
      "           |                    Best solution                      |            Population            |\n",
      "-------------------------------------------------------------------------------------------------------\n",
      "Generation | Length   Fitness          Test Fitness         Timing | AVG Fitness           STD Fitness\n",
      "-------------------------------------------------------------------------------------------------------\n",
      "0          | 7        10.7887          1.09076               0.024 | -1                             -1\n",
      "1          | 31       8.80373          1.63287               0.044 | -1                             -1\n",
      "2          | 67       8.10672          0.993637              0.070 | -1                             -1\n",
      "3          | 149      7.19125          0.888846              0.136 | -1                             -1\n",
      "4          | 149      7.19125          0.888846              0.232 | -1                             -1\n",
      "5          | 149      7.19125          0.888846              0.425 | -1                             -1\n",
      "6          | 149      7.19125          0.888846              0.597 | -1                             -1\n",
      "7          | 149      7.19125          0.888846              1.263 | -1                             -1\n",
      "8          | 149      7.19125          0.888846              1.943 | -1                             -1\n"
     ]
    },
    {
     "ename": "KeyboardInterrupt",
     "evalue": "",
     "output_type": "error",
     "traceback": [
      "\u001b[0;31m---------------------------------------------------------------------------\u001b[0m",
      "\u001b[0;31mKeyboardInterrupt\u001b[0m                         Traceback (most recent call last)",
      "Cell \u001b[0;32mIn[27], line 12\u001b[0m\n\u001b[1;32m      1\u001b[0m \u001b[38;5;66;03m# # Log settings\u001b[39;00m\n\u001b[1;32m      2\u001b[0m \u001b[38;5;66;03m# file_dir = './log/'\u001b[39;00m\n\u001b[1;32m      3\u001b[0m \u001b[38;5;66;03m# file_name = 'intro.log'\u001b[39;00m\n\u001b[0;32m   (...)\u001b[0m\n\u001b[1;32m      9\u001b[0m \n\u001b[1;32m     10\u001b[0m \u001b[38;5;66;03m# Learning\u001b[39;00m\n\u001b[1;32m     11\u001b[0m n_iter \u001b[38;5;241m=\u001b[39m \u001b[38;5;241m50\u001b[39m\n\u001b[0;32m---> 12\u001b[0m mheuristic\u001b[38;5;241m.\u001b[39msolve(\n\u001b[1;32m     13\u001b[0m     n_iter,\n\u001b[1;32m     14\u001b[0m     verbose\u001b[38;5;241m=\u001b[39m\u001b[38;5;241m3\u001b[39m, \n\u001b[1;32m     15\u001b[0m     \u001b[38;5;66;03m# log=3, log_path=log_path,\u001b[39;00m\n\u001b[1;32m     16\u001b[0m     test_elite\u001b[38;5;241m=\u001b[39m\u001b[38;5;28;01mTrue\u001b[39;00m\n\u001b[1;32m     17\u001b[0m )\n",
      "File \u001b[0;32m~/Documents/Nova IMS current/NEL/GP_Milk_Content_Prediction/gpolnel/algorithms/genetic_algorithm.py:297\u001b[0m, in \u001b[0;36mGeneticAlgorithm.solve\u001b[0;34m(self, n_iter, tol, n_iter_tol, start_at, test_elite, verbose, log, log_path, log_xp)\u001b[0m\n\u001b[1;32m    295\u001b[0m \u001b[38;5;66;03m# 2) 1)\u001b[39;00m\n\u001b[1;32m    296\u001b[0m offs_pop \u001b[38;5;241m=\u001b[39m \u001b[38;5;28mglobals\u001b[39m()[\u001b[38;5;28mself\u001b[39m\u001b[38;5;241m.\u001b[39mpop\u001b[38;5;241m.\u001b[39m\u001b[38;5;18m__class__\u001b[39m\u001b[38;5;241m.\u001b[39m\u001b[38;5;18m__name__\u001b[39m](offs_pop)\n\u001b[0;32m--> 297\u001b[0m \u001b[38;5;28mself\u001b[39m\u001b[38;5;241m.\u001b[39mpi\u001b[38;5;241m.\u001b[39mevaluate_pop(offs_pop)\n\u001b[1;32m    299\u001b[0m \u001b[38;5;66;03m# Overrides elites's information, if it was re-evaluated, and removes it from 'offsprings'\u001b[39;00m\n\u001b[1;32m    300\u001b[0m \u001b[38;5;28;01mif\u001b[39;00m \u001b[38;5;28mself\u001b[39m\u001b[38;5;241m.\u001b[39m_batch_training:\n",
      "File \u001b[0;32m~/Documents/Nova IMS current/NEL/GP_Milk_Content_Prediction/gpolnel/problems/inductive_programming.py:399\u001b[0m, in \u001b[0;36mSML.evaluate_pop\u001b[0;34m(self, pop)\u001b[0m\n\u001b[1;32m    397\u001b[0m pop\u001b[38;5;241m.\u001b[39mvalid \u001b[38;5;241m=\u001b[39m \u001b[38;5;28mself\u001b[39m\u001b[38;5;241m.\u001b[39m_is_feasible_pop(pop\u001b[38;5;241m.\u001b[39mrepr_)\n\u001b[1;32m    398\u001b[0m \u001b[38;5;66;03m# Assigns individuals fitness(es)\u001b[39;00m\n\u001b[0;32m--> 399\u001b[0m pop\u001b[38;5;241m.\u001b[39mfit \u001b[38;5;241m=\u001b[39m \u001b[38;5;28mself\u001b[39m\u001b[38;5;241m.\u001b[39m_evaluate_pop_ffunction(\u001b[38;5;28mself\u001b[39m\u001b[38;5;241m.\u001b[39mffunction, pop)\n\u001b[1;32m    400\u001b[0m \u001b[38;5;66;03m# Assigns the default fitness to invalid solutions in the population\u001b[39;00m\n\u001b[1;32m    401\u001b[0m pop_invalid \u001b[38;5;241m=\u001b[39m \u001b[38;5;241m~\u001b[39mtorch\u001b[38;5;241m.\u001b[39mtensor(pop\u001b[38;5;241m.\u001b[39mvalid)\n",
      "File \u001b[0;32m~/Documents/Nova IMS current/NEL/GP_Milk_Content_Prediction/gpolnel/problems/inductive_programming.py:272\u001b[0m, in \u001b[0;36mSML._evaluate_pop_ffunction\u001b[0;34m(self, ffunction, pop)\u001b[0m\n\u001b[1;32m    270\u001b[0m     y_pred \u001b[38;5;241m=\u001b[39m []\n\u001b[1;32m    271\u001b[0m     \u001b[38;5;28;01mfor\u001b[39;00m i, repr_ \u001b[38;5;129;01min\u001b[39;00m \u001b[38;5;28menumerate\u001b[39m(pop\u001b[38;5;241m.\u001b[39mrepr_):\n\u001b[0;32m--> 272\u001b[0m         y_pred\u001b[38;5;241m.\u001b[39mappend(_execute_tree(repr_, X))\n\u001b[1;32m    273\u001b[0m fit_batch \u001b[38;5;241m=\u001b[39m ffunction(call\u001b[38;5;241m=\u001b[39m\u001b[38;5;124m'\u001b[39m\u001b[38;5;124mdl\u001b[39m\u001b[38;5;124m'\u001b[39m, y_true\u001b[38;5;241m=\u001b[39my, y_pred\u001b[38;5;241m=\u001b[39mtorch\u001b[38;5;241m.\u001b[39mstack(y_pred))\n\u001b[1;32m    274\u001b[0m fit_dl \u001b[38;5;241m+\u001b[39m\u001b[38;5;241m=\u001b[39m fit_batch\n",
      "File \u001b[0;32m~/Documents/Nova IMS current/NEL/GP_Milk_Content_Prediction/gpolnel/utils/inductive_programming.py:310\u001b[0m, in \u001b[0;36m_execute_tree\u001b[0;34m(repr_, X)\u001b[0m\n\u001b[1;32m    308\u001b[0m function_ \u001b[38;5;241m=\u001b[39m apply_stack[\u001b[38;5;241m-\u001b[39m\u001b[38;5;241m1\u001b[39m][\u001b[38;5;241m0\u001b[39m]\n\u001b[1;32m    309\u001b[0m terminals \u001b[38;5;241m=\u001b[39m [X[:, t] \u001b[38;5;28;01mif\u001b[39;00m \u001b[38;5;28misinstance\u001b[39m(t, \u001b[38;5;28mint\u001b[39m) \u001b[38;5;28;01melse\u001b[39;00m t \u001b[38;5;28;01mfor\u001b[39;00m t \u001b[38;5;129;01min\u001b[39;00m apply_stack[\u001b[38;5;241m-\u001b[39m\u001b[38;5;241m1\u001b[39m][\u001b[38;5;241m1\u001b[39m:]]\n\u001b[0;32m--> 310\u001b[0m intermediate_result \u001b[38;5;241m=\u001b[39m function_(\u001b[38;5;241m*\u001b[39mterminals)\n\u001b[1;32m    311\u001b[0m \u001b[38;5;28;01mif\u001b[39;00m \u001b[38;5;28mlen\u001b[39m(apply_stack) \u001b[38;5;241m!=\u001b[39m \u001b[38;5;241m1\u001b[39m:\n\u001b[1;32m    312\u001b[0m     apply_stack\u001b[38;5;241m.\u001b[39mpop()\n",
      "File \u001b[0;32m~/Documents/Nova IMS current/NEL/GP_Milk_Content_Prediction/gpolnel/utils/inductive_programming.py:53\u001b[0m, in \u001b[0;36m_Function.__call__\u001b[0;34m(self, *args)\u001b[0m\n\u001b[1;32m     52\u001b[0m \u001b[38;5;28;01mdef\u001b[39;00m \u001b[38;5;21m__call__\u001b[39m(\u001b[38;5;28mself\u001b[39m, \u001b[38;5;241m*\u001b[39margs):\n\u001b[0;32m---> 53\u001b[0m     \u001b[38;5;28;01mreturn\u001b[39;00m \u001b[38;5;28mself\u001b[39m\u001b[38;5;241m.\u001b[39mfunction_(\u001b[38;5;241m*\u001b[39margs)\n",
      "\u001b[0;31mKeyboardInterrupt\u001b[0m: "
     ]
    }
   ],
   "source": [
    "# # Log settings\n",
    "# file_dir = './log/'\n",
    "# file_name = 'intro.log'\n",
    "# log_path = file_dir + file_name\n",
    "# if os.path.exists(file_dir + file_name):\n",
    "#     os.remove(file_dir + file_name)\n",
    "# if not os.path.exists(file_dir):\n",
    "#     os.makedirs(file_dir)\n",
    "\n",
    "# Learning\n",
    "n_iter = 50\n",
    "mheuristic.solve(\n",
    "    n_iter,\n",
    "    verbose=3, \n",
    "    # log=3, log_path=log_path,\n",
    "    test_elite=True\n",
    ")"
   ]
  },
  {
   "cell_type": "markdown",
   "metadata": {},
   "source": [
    "#### List of exercises"
   ]
  },
  {
   "cell_type": "markdown",
   "metadata": {},
   "source": [
    "<hr />\n",
    "\n",
    "##### **Exercise 1.a - Done**\n",
    "**Implement the full and the ramped half-n-half initializers.**\n",
    "\n",
    "\\>> *The rhh initialization implementation will be evaluated in the final project. Its solution will be provided before the project delivery, so it is a basic implementation exercise.*\n",
    "\n",
    "\n",
    "<hr />\n",
    "\n",
    "<br />"
   ]
  },
  {
   "cell_type": "markdown",
   "metadata": {},
   "source": [
    "<hr />\n",
    "\n",
    "##### **Exercise 1.b - Done**\n",
    "**Implement the Hoist mutation.**\n",
    "\n",
    "\\>> *The hoist mutation implementation will be evaluated in the final project. Its solution will be provided before the project delivery, so it is a basic implementation exercise.*\n",
    "\n",
    "\n",
    "<hr />\n",
    "\n",
    "<br />"
   ]
  },
  {
   "cell_type": "markdown",
   "metadata": {},
   "source": [
    "<hr />\n",
    "\n",
    "##### **Exercise 2 - Done**\n",
    "**Implement the double tournament selection algorithm.**\n",
    "\n",
    "\\>> *The Double tournament selection algorithm implementation will be evaluated in the final project. Its solution will be provided only after the project delivery, so it is an advanced implementation exercise.*\n",
    "\n",
    "Double Tournament selection algorithm\n",
    "\n",
    "It performs two sequential tournament selections, one for each objective, e.g., RMSE and tree size.\n",
    "\n",
    "<hr />\n",
    "\n",
    "<br />"
   ]
  },
  {
   "cell_type": "markdown",
   "metadata": {},
   "source": [
    "<hr />\n",
    "\n",
    "##### **Exercise 1  - Done**\n",
    "**Implement the Geometric Semantic Crossover and Mutation proposed by Moraglio et al. 2012.**\n",
    "\n",
    "\\>> *The GSXO and GSM implementation will be evaluated in the final project. Its solution will be provided before the project delivery, so it is a basic implementation exercise.*\n",
    "\n",
    "\n",
    "<hr />\n",
    "\n",
    "<br />"
   ]
  },
  {
   "cell_type": "markdown",
   "metadata": {},
   "source": [
    "<hr />\n",
    "\n",
    "##### **Exercise 2  - Done**\n",
    "**Implement the Efficient Geometric Semantic Crossover and Mutation proposed by Vanneschi et al. 2013.**\n",
    "\n",
    "\\>> *The Efficient GSXO and GSM implementation will be evaluated in the final project. Its solution will be provided before the project delivery, so it is a basic implementation exercise.*\n",
    "\n",
    "\n",
    "<hr />\n",
    "\n",
    "<br />"
   ]
  },
  {
   "cell_type": "markdown",
   "metadata": {},
   "source": []
  }
 ],
 "metadata": {
  "kernelspec": {
   "display_name": "base",
   "language": "python",
   "name": "python3"
  },
  "language_info": {
   "codemirror_mode": {
    "name": "ipython",
    "version": 3
   },
   "file_extension": ".py",
   "mimetype": "text/x-python",
   "name": "python",
   "nbconvert_exporter": "python",
   "pygments_lexer": "ipython3",
   "version": "3.11.4"
  }
 },
 "nbformat": 4,
 "nbformat_minor": 2
}
